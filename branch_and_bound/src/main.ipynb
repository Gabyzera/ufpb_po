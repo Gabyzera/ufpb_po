{
  "cells": [
    {
      "cell_type": "code",
      "execution_count": null,
      "metadata": {
        "colab": {
          "base_uri": "https://localhost:8080/"
        },
        "id": "af-2CPuiRL3R",
        "outputId": "cff8e0b3-52cf-4107-f87e-200030b2bbd9"
      },
      "outputs": [
        {
          "ename": "",
          "evalue": "",
          "output_type": "error",
          "traceback": [
            "\u001b[1;31mFailed to start the Kernel. \n",
            "\u001b[1;31mUnable to start Kernel 'Python 3.10.11' due to a timeout waiting for the ports to get used. \n",
            "\u001b[1;31mView Jupyter <a href='command:jupyter.viewOutput'>log</a> for further details."
          ]
        }
      ],
      "source": [
        "!pip install mip"
      ]
    },
    {
      "cell_type": "code",
      "execution_count": 1,
      "metadata": {
        "id": "yIAlJfSsRZpQ"
      },
      "outputs": [],
      "source": [
        "from queue import Queue"
      ]
    },
    {
      "cell_type": "code",
      "execution_count": 2,
      "metadata": {
        "id": "u1vVGX1iS8uq"
      },
      "outputs": [],
      "source": [
        "from mip import *"
      ]
    },
    {
      "cell_type": "code",
      "execution_count": 3,
      "metadata": {
        "id": "pTFtFHuaRDfW"
      },
      "outputs": [],
      "source": [
        "def read(filename):\n",
        "    with open(filename, 'r') as file:\n",
        "        lista = file.readlines()\n",
        "        lista = [x.strip().split() for x in lista] \n",
        "        lista = [[int(y) for y in x] for x in lista]\n",
        "        variaveis = lista[0][0]\n",
        "        num_restricoes = lista[0][1]  # Renomeado para evitar acentuação em variáveis\n",
        "        objetivo = lista[1]\n",
        "        restricoes = lista[2:]\n",
        "    return variaveis, num_restricoes, objetivo, restricoes\n",
        "\n",
        "def solve_relaxation(model, restricoes, objetivo, variaveis):\n",
        "    # Utiliza o modelo passado como parâmetro para não recriar um novo\n",
        "    model.objective = xsum(objetivo[i] * model.vars[i] for i in range(variaveis))\n",
        "\n",
        "    for data in restricoes:\n",
        "        model += xsum(data[i] * model.vars[i] for i in range(variaveis)) <= data[-1]\n",
        "\n",
        "    model.optimize()\n",
        "\n",
        "    if model.num_solutions:\n",
        "        return model.objective_value, [v.x for v in model.vars]\n",
        "    else:\n",
        "        return None, None\n",
        "\n",
        "# das variáveis não inteiras, qual é a que tem casa decimal mais próxima de 0.5\n",
        "def branch(solucao, epsilon=0.0001):\n",
        "\n",
        "    nao_binarias = [(i, abs(x - round(x))) for i, x in enumerate(solucao) if abs(x - round(x)) > epsilon]\n",
        "    if not nao_binarias:\n",
        "        return None\n",
        "\n",
        "  # mais perto de 0.5\n",
        "    nao_binarias.sort(key=lambda x: -abs(x[1] - 0.5))\n",
        "    branchV = nao_binarias[0][0]\n",
        "    return branchV\n",
        "\n",
        "def save(model, filename):\n",
        "        model.write(filename) # salva modelo em arquivo\n",
        "        with open(filename, \"r\") as f: # lê e exibe conteúdo do arquivo\n",
        "            print(f.read())\n",
        "\n",
        "def branch_and_bound(filename):\n",
        "    variaveis, num_restricoes, objetivo, restricoes = read(filename)\n",
        "\n",
        "    queue = Queue()\n",
        "    queue.put(([], {i: None for i in range(variaveis)}))  # Initial state\n",
        "\n",
        "    best_solution = None\n",
        "    best_objective = float('-inf')\n",
        "\n",
        "    while not queue.empty():\n",
        "        current_constraints, current_integrality = queue.get()\n",
        "\n",
        "        m = Model(sense=MAXIMIZE)\n",
        "        m.vars = [m.add_var(var_type=BINARY) for i in range(variaveis)]\n",
        "        # Adiciona as restrições ao modelo\n",
        "        for (var, val) in current_constraints:\n",
        "            if val is not None:\n",
        "                m += m.vars[var] == val\n",
        "\n",
        "        objective_value, solution = solve_relaxation(m, restricoes, objetivo, variaveis)\n",
        "\n",
        "        if objective_value is None or objective_value <= best_objective:\n",
        "            continue\n",
        "\n",
        "        branch_var = branch(m, solution)\n",
        "        if branch_var is not None:\n",
        "            for val in [0, 1]:\n",
        "                new_constraints = current_constraints + [(branch_var, val)]\n",
        "                queue.put((new_constraints, current_integrality))\n",
        "\n",
        "    return objective_value, solution"
      ]
    },
    {
      "cell_type": "code",
      "execution_count": 4,
      "metadata": {
        "colab": {
          "base_uri": "https://localhost:8080/"
        },
        "id": "qH_S7LS2aBZo",
        "outputId": "993e3bfb-cf3b-4a03-b299-8c90e803fcc8"
      },
      "outputs": [
        {
          "name": "stderr",
          "output_type": "stream",
          "text": [
            "An error occurred while loading the CBC library:\t cannot load library 'C:\\Users\\gabri\\AppData\\Local\\Packages\\PythonSoftwareFoundation.Python.3.10_qbz5n2kfra8p0\\LocalCache\\local-packages\\Python310\\site-packages\\mip\\libraries\\win64\\cbc-c-windows-x86-64.dll': error 0x7e\n",
            "\n"
          ]
        },
        {
          "ename": "NameError",
          "evalue": "name 'cbclib' is not defined",
          "output_type": "error",
          "traceback": [
            "\u001b[1;31m---------------------------------------------------------------------------\u001b[0m",
            "\u001b[1;31mNameError\u001b[0m                                 Traceback (most recent call last)",
            "\u001b[1;32mc:\\Users\\gabri\\Workspace\\Studies\\UFPB\\2023.1\\PO\\branch_and_bound\\src\\main.ipynb Cell 5\u001b[0m line \u001b[0;36m1\n\u001b[1;32m----> <a href='vscode-notebook-cell:/c%3A/Users/gabri/Workspace/Studies/UFPB/2023.1/PO/branch_and_bound/src/main.ipynb#W4sZmlsZQ%3D%3D?line=0'>1</a>\u001b[0m optimal_value, optimal_solution \u001b[39m=\u001b[39m branch_and_bound(\u001b[39m'\u001b[39;49m\u001b[39mteste1.txt\u001b[39;49m\u001b[39m'\u001b[39;49m)\n\u001b[0;32m      <a href='vscode-notebook-cell:/c%3A/Users/gabri/Workspace/Studies/UFPB/2023.1/PO/branch_and_bound/src/main.ipynb#W4sZmlsZQ%3D%3D?line=1'>2</a>\u001b[0m \u001b[39mprint\u001b[39m(\u001b[39m\"\u001b[39m\u001b[39mOptimal value:\u001b[39m\u001b[39m\"\u001b[39m, optimal_value)\n\u001b[0;32m      <a href='vscode-notebook-cell:/c%3A/Users/gabri/Workspace/Studies/UFPB/2023.1/PO/branch_and_bound/src/main.ipynb#W4sZmlsZQ%3D%3D?line=2'>3</a>\u001b[0m \u001b[39mprint\u001b[39m(\u001b[39m\"\u001b[39m\u001b[39mOptimal solution:\u001b[39m\u001b[39m\"\u001b[39m, optimal_solution)\n",
            "\u001b[1;32mc:\\Users\\gabri\\Workspace\\Studies\\UFPB\\2023.1\\PO\\branch_and_bound\\src\\main.ipynb Cell 5\u001b[0m line \u001b[0;36m5\n\u001b[0;32m     <a href='vscode-notebook-cell:/c%3A/Users/gabri/Workspace/Studies/UFPB/2023.1/PO/branch_and_bound/src/main.ipynb#W4sZmlsZQ%3D%3D?line=51'>52</a>\u001b[0m \u001b[39mwhile\u001b[39;00m \u001b[39mnot\u001b[39;00m queue\u001b[39m.\u001b[39mempty():\n\u001b[0;32m     <a href='vscode-notebook-cell:/c%3A/Users/gabri/Workspace/Studies/UFPB/2023.1/PO/branch_and_bound/src/main.ipynb#W4sZmlsZQ%3D%3D?line=52'>53</a>\u001b[0m     current_constraints, current_integrality \u001b[39m=\u001b[39m queue\u001b[39m.\u001b[39mget()\n\u001b[1;32m---> <a href='vscode-notebook-cell:/c%3A/Users/gabri/Workspace/Studies/UFPB/2023.1/PO/branch_and_bound/src/main.ipynb#W4sZmlsZQ%3D%3D?line=54'>55</a>\u001b[0m     m \u001b[39m=\u001b[39m Model(sense\u001b[39m=\u001b[39;49mMAXIMIZE)\n\u001b[0;32m     <a href='vscode-notebook-cell:/c%3A/Users/gabri/Workspace/Studies/UFPB/2023.1/PO/branch_and_bound/src/main.ipynb#W4sZmlsZQ%3D%3D?line=55'>56</a>\u001b[0m     m\u001b[39m.\u001b[39mvars \u001b[39m=\u001b[39m [m\u001b[39m.\u001b[39madd_var(var_type\u001b[39m=\u001b[39mBINARY) \u001b[39mfor\u001b[39;00m i \u001b[39min\u001b[39;00m \u001b[39mrange\u001b[39m(variaveis)]\n\u001b[0;32m     <a href='vscode-notebook-cell:/c%3A/Users/gabri/Workspace/Studies/UFPB/2023.1/PO/branch_and_bound/src/main.ipynb#W4sZmlsZQ%3D%3D?line=56'>57</a>\u001b[0m     \u001b[39m# Adiciona as restrições ao modelo\u001b[39;00m\n",
            "File \u001b[1;32m~\\AppData\\Local\\Packages\\PythonSoftwareFoundation.Python.3.10_qbz5n2kfra8p0\\LocalCache\\local-packages\\Python310\\site-packages\\mip\\model.py:98\u001b[0m, in \u001b[0;36mModel.__init__\u001b[1;34m(self, name, sense, solver_name, solver)\u001b[0m\n\u001b[0;32m     96\u001b[0m     \u001b[39mself\u001b[39m\u001b[39m.\u001b[39msolver_name \u001b[39m=\u001b[39m mip\u001b[39m.\u001b[39mGUROBI\n\u001b[0;32m     97\u001b[0m \u001b[39melse\u001b[39;00m:\n\u001b[1;32m---> 98\u001b[0m     \u001b[39mimport\u001b[39;00m \u001b[39mmip\u001b[39;00m\u001b[39m.\u001b[39;00m\u001b[39mcbc\u001b[39;00m\n\u001b[0;32m    100\u001b[0m     \u001b[39mself\u001b[39m\u001b[39m.\u001b[39msolver \u001b[39m=\u001b[39m mip\u001b[39m.\u001b[39mcbc\u001b[39m.\u001b[39mSolverCbc(\u001b[39mself\u001b[39m, name, sense)\n\u001b[0;32m    101\u001b[0m     \u001b[39mself\u001b[39m\u001b[39m.\u001b[39msolver_name \u001b[39m=\u001b[39m mip\u001b[39m.\u001b[39mCBC\n",
            "File \u001b[1;32m~\\AppData\\Local\\Packages\\PythonSoftwareFoundation.Python.3.10_qbz5n2kfra8p0\\LocalCache\\local-packages\\Python310\\site-packages\\mip\\cbc.py:603\u001b[0m\n\u001b[0;32m    599\u001b[0m INT_PARAM_CLIQUE_MERGING \u001b[39m=\u001b[39m \u001b[39m18\u001b[39m\n\u001b[0;32m    600\u001b[0m INT_PARAM_MAX_NODES_NOT_IMPROV_FS \u001b[39m=\u001b[39m \u001b[39m19\u001b[39m\n\u001b[1;32m--> 603\u001b[0m Osi_getNumCols \u001b[39m=\u001b[39m cbclib\u001b[39m.\u001b[39mOsi_getNumCols\n\u001b[0;32m    604\u001b[0m Osi_getColSolution \u001b[39m=\u001b[39m cbclib\u001b[39m.\u001b[39mOsi_getColSolution\n\u001b[0;32m    605\u001b[0m Osi_getIntegerTolerance \u001b[39m=\u001b[39m cbclib\u001b[39m.\u001b[39mOsi_getIntegerTolerance\n",
            "\u001b[1;31mNameError\u001b[0m: name 'cbclib' is not defined"
          ]
        }
      ],
      "source": [
        "optimal_value, optimal_solution = branch_and_bound('teste1.txt')\n",
        "print(\"Optimal value:\", optimal_value)\n",
        "print(\"Optimal solution:\", optimal_solution)"
      ]
    },
    {
      "cell_type": "code",
      "execution_count": null,
      "metadata": {
        "colab": {
          "base_uri": "https://localhost:8080/"
        },
        "id": "xqZiT_EwaePN",
        "outputId": "3c5f7db1-aaa7-40e1-ddbc-c40334329008"
      },
      "outputs": [
        {
          "name": "stdout",
          "output_type": "stream",
          "text": [
            "Optimal value: 24.0\n",
            "Optimal solution: [0.0, 1.0, 0.0, 0.0, 0.0, 1.0, 1.0, 0.0, 0.0]\n"
          ]
        }
      ],
      "source": [
        "optimal_value, optimal_solution = branch_and_bound('teste2.txt')\n",
        "print(\"Optimal value:\", optimal_value)\n",
        "print(\"Optimal solution:\", optimal_solution)"
      ]
    },
    {
      "cell_type": "code",
      "execution_count": null,
      "metadata": {
        "colab": {
          "base_uri": "https://localhost:8080/"
        },
        "id": "FdthBdOVaf8i",
        "outputId": "5cd10389-037a-4331-df14-c4e3faa54dc9"
      },
      "outputs": [
        {
          "name": "stdout",
          "output_type": "stream",
          "text": [
            "Optimal value: 19.0\n",
            "Optimal solution: [0.0, 0.0, 1.0, 0.0, 0.0, 0.0, 1.0, 0.0, 0.0]\n"
          ]
        }
      ],
      "source": [
        "optimal_value, optimal_solution = branch_and_bound('teste3.txt')\n",
        "print(\"Optimal value:\", optimal_value)\n",
        "print(\"Optimal solution:\", optimal_solution)"
      ]
    },
    {
      "cell_type": "code",
      "execution_count": null,
      "metadata": {
        "colab": {
          "base_uri": "https://localhost:8080/"
        },
        "id": "g9f9PYhdahMT",
        "outputId": "1a01f2b3-d5a6-4d0c-bd34-dca88485b591"
      },
      "outputs": [
        {
          "name": "stdout",
          "output_type": "stream",
          "text": [
            "Optimal value: 10.0\n",
            "Optimal solution: [0.0, 0.0, 1.0, 0.0, 0.0, 0.0, 0.0, 0.0, 0.0]\n"
          ]
        }
      ],
      "source": [
        "optimal_value, optimal_solution = branch_and_bound('teste4.txt')\n",
        "print(\"Optimal value:\", optimal_value)\n",
        "print(\"Optimal solution:\", optimal_solution)"
      ]
    }
  ],
  "metadata": {
    "colab": {
      "provenance": []
    },
    "kernelspec": {
      "display_name": "Python 3",
      "name": "python3"
    },
    "language_info": {
      "codemirror_mode": {
        "name": "ipython",
        "version": 3
      },
      "file_extension": ".py",
      "mimetype": "text/x-python",
      "name": "python",
      "nbconvert_exporter": "python",
      "pygments_lexer": "ipython3",
      "version": "3.10.11"
    }
  },
  "nbformat": 4,
  "nbformat_minor": 0
}
