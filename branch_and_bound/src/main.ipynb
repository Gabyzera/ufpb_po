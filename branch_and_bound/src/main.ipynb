{
  "cells": [
    {
      "cell_type": "code",
      "execution_count": 59,
      "metadata": {
        "colab": {
          "base_uri": "https://localhost:8080/"
        },
        "id": "af-2CPuiRL3R",
        "outputId": "ed70fead-64ec-458a-97d4-4f1df828204e"
      },
      "outputs": [
        {
          "output_type": "stream",
          "name": "stdout",
          "text": [
            "Requirement already satisfied: mip in /usr/local/lib/python3.10/dist-packages (1.15.0)\n",
            "Requirement already satisfied: cffi==1.15.* in /usr/local/lib/python3.10/dist-packages (from mip) (1.15.1)\n",
            "Requirement already satisfied: pycparser in /usr/local/lib/python3.10/dist-packages (from cffi==1.15.*->mip) (2.21)\n"
          ]
        }
      ],
      "source": [
        "!pip install mip"
      ]
    },
    {
      "cell_type": "code",
      "execution_count": 60,
      "metadata": {
        "id": "yIAlJfSsRZpQ"
      },
      "outputs": [],
      "source": [
        "from queue import Queue"
      ]
    },
    {
      "cell_type": "code",
      "execution_count": 61,
      "metadata": {
        "id": "u1vVGX1iS8uq"
      },
      "outputs": [],
      "source": [
        "from mip import *"
      ]
    },
    {
      "cell_type": "code",
      "execution_count": 104,
      "metadata": {
        "id": "pTFtFHuaRDfW"
      },
      "outputs": [],
      "source": [
        "# Função para ler dados do problema de um arquivo\n",
        "def read(filename):\n",
        "    with open(filename, 'r') as file:\n",
        "        lista = file.readlines()  # Lê todas as linhas do arquivo\n",
        "        lista = [x.strip().split() for x in lista]  # Remove espaços em branco e quebra cada linha em lista\n",
        "        lista = [[int(y) for y in x] for x in lista]  # Converte todos os elementos para inteiros\n",
        "        variaveis = lista[0][0]  # Obtém o número de variáveis do problema\n",
        "        num_restricoes = lista[0][1]  # Obtém o número de restrições do problema\n",
        "        objetivo = lista[1]  # Obtém os coeficientes da função objetivo\n",
        "        restricoes = lista[2:]  # Obtém as restrições do problema\n",
        "    return variaveis, num_restricoes, objetivo, restricoes\n",
        "\n",
        "# Função para resolver a relaxação linear de um modelo\n",
        "def solve_relaxation(model, restricoes, objetivo, variaveis):\n",
        "    # Define a função objetivo do modelo usando a soma ponderada\n",
        "    model.objective = xsum(objetivo[i] * model.vars[i] for i in range(variaveis))\n",
        "\n",
        "    # Adiciona as restrições ao modelo\n",
        "    for data in restricoes:\n",
        "        model += xsum(data[i] * model.vars[i] for i in range(variaveis)) <= data[-1]\n",
        "\n",
        "    model.optimize()\n",
        "\n",
        "    # Se o modelo tem solução, retorna o valor objetivo e a solução; senão, retorna None\n",
        "    if model.num_solutions:\n",
        "        return model.objective_value, [v.x for v in model.vars]\n",
        "    else:\n",
        "        return None, None\n",
        "\n",
        "# Função para determinar a variável de ramificação baseada na casa decimal mais próxima de 0.5\n",
        "def branch(solucao, alpha=0.0001):\n",
        "    # Filtra as variáveis que não são inteiras dentro de uma tolerância alpa\n",
        "    nao_binarias = [(i, abs(x - round(x))) for i, x in enumerate(solucao) if abs(x - round(x)) > alpha]\n",
        "    if not nao_binarias:\n",
        "        return None\n",
        "\n",
        "    # Ordena as variáveis não binárias pela distância da parte decimal a 0.5\n",
        "    nao_binarias.sort(key=lambda x: -abs(x[1] - 0.5))\n",
        "    branchV = nao_binarias[0][0]  # Escolhe a variável com a casa decimal mais próxima de 0.5\n",
        "    return branchV\n",
        "\n",
        "# Função principal do algoritmo branch-and-bound\n",
        "def branch_and_bound(filename):\n",
        "    variaveis, num_restricoes, objetivo, restricoes = read(filename)\n",
        "    # Cria uma fila para gerenciar os nós do branch-and-bound\n",
        "    queue = Queue()\n",
        "    queue.put(([], {i: None for i in range(variaveis)}))  # Coloca o estado inicial na fila\n",
        "\n",
        "    best_solution = None  # Inicializa a melhor solução como None\n",
        "    best_objective = float('-inf')  # Inicializa o melhor valor objetivo como infinito negativo\n",
        "\n",
        "    # Enquanto houver elementos na fila, processa cada um\n",
        "    while not queue.empty():\n",
        "        restricao_atual, integridade_atual = queue.get()  # Obtém o próximo elemento da fila\n",
        "\n",
        "        m = Model(sense=MAXIMIZE)  # Cria um novo modelo de maximização\n",
        "        # Define as variáveis do modelo como contínuas com limites entre 0 e 1\n",
        "        m.vars = [m.add_var(var_type=CONTINUOUS, lb=0, ub=1) for i in range(variaveis)]\n",
        "\n",
        "        # Adiciona as restrições atuais ao modelo\n",
        "        for (x, y) in restricao_atual:\n",
        "            if y is not None:\n",
        "                m += m.vars[x] == y\n",
        "\n",
        "        # Resolve a relaxação linear do modelo atual\n",
        "        objective_value, solution = solve_relaxation(m, restricoes, objetivo, variaveis)\n",
        "\n",
        "        # Se o valor objetivo da relaxação linear é pior que o melhor encontrado, ignora o ramo\n",
        "        if objective_value is None or objective_value <= best_objective:\n",
        "            continue\n",
        "\n",
        "        # Se a solução é viável (todas as variáveis são inteiras), atualiza a melhor solução\n",
        "        if all(x in (0, 1) for x in solution):\n",
        "            if objective_value > best_objective:\n",
        "                best_solution = solution\n",
        "                best_objective = objective_value\n",
        "            continue\n",
        "\n",
        "        # Determina a próxima variável para ramificação\n",
        "        branch_var = branch(solution)\n",
        "        if branch_var is not None:\n",
        "            # Ramifica nas variáveis, adicionando restrições e colocando novos nós na fila\n",
        "            for i in [0, 1]:\n",
        "                nova_restricao = restricao_atual + [(branch_var, i)]\n",
        "                queue.put((nova_restricao, integridade_atual))\n",
        "\n",
        "    # Retorna o melhor valor objetivo e a melhor solução encontrados\n",
        "    return best_objective, best_solution"
      ]
    },
    {
      "cell_type": "code",
      "execution_count": 105,
      "metadata": {
        "colab": {
          "base_uri": "https://localhost:8080/"
        },
        "id": "qH_S7LS2aBZo",
        "outputId": "e32a964f-cea9-4c60-d037-b462fe0894fd"
      },
      "outputs": [
        {
          "output_type": "stream",
          "name": "stdout",
          "text": [
            "Optimal value: 20.0\n",
            "Optimal solucao: [0.0, 0.0, 0.0, 0.0, 1.0, 1.0, 0.0]\n"
          ]
        }
      ],
      "source": [
        "optimal_value, optimal_solucao = branch_and_bound('teste1.txt')\n",
        "print(\"Optimal value:\", optimal_value)\n",
        "print(\"Optimal solucao:\", optimal_solucao)"
      ]
    },
    {
      "cell_type": "code",
      "execution_count": 94,
      "metadata": {
        "colab": {
          "base_uri": "https://localhost:8080/"
        },
        "id": "xqZiT_EwaePN",
        "outputId": "302d27a2-4999-4d8d-e317-077aa37bff64"
      },
      "outputs": [
        {
          "output_type": "stream",
          "name": "stdout",
          "text": [
            "Optimal value: 24.0\n",
            "Optimal solution: [0.0, 0.0, 0.0, 0.0, 0.0, 1.0, 1.0, 0.0, 1.0]\n"
          ]
        }
      ],
      "source": [
        "optimal_value, optimal_solucao = branch_and_bound('teste2.txt')\n",
        "print(\"Optimal value:\", optimal_value)\n",
        "print(\"Optimal solucao:\", optimal_solucao)"
      ]
    },
    {
      "cell_type": "code",
      "execution_count": 95,
      "metadata": {
        "colab": {
          "base_uri": "https://localhost:8080/"
        },
        "id": "FdthBdOVaf8i",
        "outputId": "3208290f-142c-43f6-8c8d-2d06ca642d90"
      },
      "outputs": [
        {
          "output_type": "stream",
          "name": "stdout",
          "text": [
            "Optimal value: 19.0\n",
            "Optimal solution: [0.0, 0.0, 1.0, 0.0, 0.0, 0.0, 1.0, 0.0, 0.0]\n"
          ]
        }
      ],
      "source": [
        "optimal_value, optimal_solucao = branch_and_bound('teste3.txt')\n",
        "print(\"Optimal value:\", optimal_value)\n",
        "print(\"Optimal solucao:\", optimal_solucao)"
      ]
    },
    {
      "cell_type": "code",
      "execution_count": 96,
      "metadata": {
        "colab": {
          "base_uri": "https://localhost:8080/"
        },
        "id": "g9f9PYhdahMT",
        "outputId": "bf249cee-c696-4ddc-adca-b3c3a7dc4207"
      },
      "outputs": [
        {
          "output_type": "stream",
          "name": "stdout",
          "text": [
            "Optimal value: 10.0\n",
            "Optimal solution: [0.0, 0.0, 1.0, 0.0, 0.0, 0.0, 0.0, 0.0, 0.0]\n"
          ]
        }
      ],
      "source": [
        "optimal_value, optimal_solucao = branch_and_bound('teste4.txt')\n",
        "print(\"Optimal value:\", optimal_value)\n",
        "print(\"Optimal solucao:\", optimal_solucao)"
      ]
    }
  ],
  "metadata": {
    "colab": {
      "provenance": []
    },
    "kernelspec": {
      "display_name": "Python 3",
      "name": "python3"
    },
    "language_info": {
      "codemirror_mode": {
        "name": "ipython",
        "version": 3
      },
      "file_extension": ".py",
      "mimetype": "text/x-python",
      "name": "python",
      "nbconvert_exporter": "python",
      "pygments_lexer": "ipython3",
      "version": "3.10.11"
    }
  },
  "nbformat": 4,
  "nbformat_minor": 0
}